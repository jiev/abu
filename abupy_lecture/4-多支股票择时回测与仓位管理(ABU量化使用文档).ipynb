{
 "cells": [
  {
   "cell_type": "markdown",
   "metadata": {},
   "source": [
    "# ABU量化系统使用文档 \n",
    "\n",
    "<center>\n",
    "        <img src=\"./image/abu_logo.png\" alt=\"\" style=\"vertical-align:middle;padding:10px 20px;\"><font size=\"6\" color=\"black\"><b>第4节 多支股票择时回测与仓位管理</b></font>\n",
    "</center>\n",
    "\n",
    "-----------------\n",
    "\n",
    "作者: 阿布\n",
    "\n",
    "阿布量化版权所有 未经允许 禁止转载\n",
    "\n",
    "[abu量化系统github地址](https://github.com/bbfamily/abu) (您的star是我的动力！)\n",
    "\n",
    "[本节ipython notebook](https://github.com/bbfamily/abu/tree/master/abupy_lecture)\n",
    "\n",
    "\n",
    "首先导入abupy中本节使用的模块："
   ]
  },
  {
   "cell_type": "code",
   "execution_count": 1,
   "metadata": {
    "collapsed": false
   },
   "outputs": [
    {
     "name": "stderr",
     "output_type": "stream",
     "text": [
      "enable example env will only read RomDataBu/csv\n"
     ]
    }
   ],
   "source": [
    "from __future__ import print_function\n",
    "from __future__ import division\n",
    "\n",
    "import warnings\n",
    "warnings.filterwarnings('ignore')\n",
    "warnings.simplefilter('ignore')\n",
    "\n",
    "import numpy as np\n",
    "import pandas as pd\n",
    "import matplotlib.pyplot as plt\n",
    "%matplotlib inline\n",
    "\n",
    "import os\n",
    "import sys\n",
    "# 使用insert 0即只使用github，避免交叉使用了pip安装的abupy，导致的版本不一致问题\n",
    "sys.path.insert(0, os.path.abspath('../'))\n",
    "import abupy\n",
    "\n",
    "# 使用沙盒数据，目的是和书中一样的数据环境\n",
    "abupy.env.enable_example_env_ipython()"
   ]
  },
  {
   "cell_type": "markdown",
   "metadata": {},
   "source": [
    "之前的章节无论讲解策略优化，还是针对回测进行滑点或是手续费都是针对一支股票进行择时操作。\n",
    "\n",
    "本节将示例讲解多支股票进行择时策略的实现，依然使用AbuFactorBuyBreak做为买入策略，其它四个卖出策略同时生效的组合。"
   ]
  },
  {
   "cell_type": "code",
   "execution_count": 4,
   "metadata": {
    "collapsed": true
   },
   "outputs": [],
   "source": [
    "from abupy import AbuFactorBuyBreak, AbuFactorSellBreak, AbuPositionBase\n",
    "from abupy import AbuFactorAtrNStop, AbuFactorPreAtrNStop, AbuFactorCloseAtrNStop\n",
    "from abupy import ABuPickTimeExecute, AbuBenchmark, AbuCapital\n",
    "\n",
    "# buy_factors 60日向上突破，42日向上突破两个因子\n",
    "buy_factors = [{'xd': 60, 'class': AbuFactorBuyBreak}, \n",
    "               {'xd': 42, 'class': AbuFactorBuyBreak}]\n",
    "# 四个卖出因子同时并行生效\n",
    "sell_factors = [\n",
    "    {\n",
    "        'xd': 120,\n",
    "        'class': AbuFactorSellBreak\n",
    "    },\n",
    "    {\n",
    "        'stop_loss_n': 0.5,\n",
    "        'stop_win_n': 3.0,\n",
    "        'class': AbuFactorAtrNStop\n",
    "    },\n",
    "    {\n",
    "        'class': AbuFactorPreAtrNStop,\n",
    "        'pre_atr_n': 1.0\n",
    "    },\n",
    "    {\n",
    "        'class': AbuFactorCloseAtrNStop,\n",
    "        'close_atr_n': 1.5\n",
    "    }]\n",
    "benchmark = AbuBenchmark()\n",
    "capital = AbuCapital(1000000, benchmark)"
   ]
  },
  {
   "cell_type": "markdown",
   "metadata": {},
   "source": [
    "### 1. 多支股票使用相同的因子进行择时"
   ]
  },
  {
   "cell_type": "markdown",
   "metadata": {},
   "source": [
    "选择的股票如下所示：\n",
    "choice_symbols = ['usTSLA', 'usNOAH', 'usSFUN', 'usBIDU', 'usAAPL',\n",
    "                  'usGOOG', 'usWUBA', 'usVIPS']\n",
    "\n",
    "备注：本节示例都基于美股市场，针对A股市场及港股市场，比特币，期货市场后在后面的章节讲解"
   ]
  },
  {
   "cell_type": "code",
   "execution_count": 6,
   "metadata": {
    "collapsed": true
   },
   "outputs": [],
   "source": [
    "# 我们假定choice_symbols是我们选股模块的结果，\n",
    "choice_symbols = ['usTSLA', 'usNOAH', 'usSFUN', 'usBIDU', 'usAAPL',\n",
    "                  'usGOOG', 'usWUBA', 'usVIPS']"
   ]
  },
  {
   "cell_type": "markdown",
   "metadata": {},
   "source": [
    "使用ABuPickTimeExecute.do_symbols_with_same_factors()函数对多支股票使用相同的买入因子，卖出因子"
   ]
  },
  {
   "cell_type": "code",
   "execution_count": 7,
   "metadata": {
    "collapsed": false
   },
   "outputs": [
    {
     "name": "stdout",
     "output_type": "stream",
     "text": [
      "CPU times: user 22.5 s, sys: 308 ms, total: 22.8 s\n",
      "Wall time: 23.6 s\n"
     ]
    }
   ],
   "source": [
    "%%time\n",
    "capital = AbuCapital(1000000, benchmark)\n",
    "orders_pd, action_pd, all_fit_symbols_cnt = ABuPickTimeExecute.do_symbols_with_same_factors(choice_symbols,\n",
    "                                                                                            benchmark,\n",
    "                                                                                            buy_factors,\n",
    "                                                                                            sell_factors,\n",
    "                                                                                            capital,\n",
    "                                                                                            show=False)"
   ]
  },
  {
   "cell_type": "markdown",
   "metadata": {},
   "source": [
    "运行完毕，使用了ipython的magic code %%time去统计代码块运行时间，显示运行了19.2 s，本节最后会使用多进程模式运行相同的回测，会和这个时间进行比较。\n",
    "\n",
    "备注：具体实际运行时间根据cpu的性能确定\n",
    "\n",
    "下面代码显示orders_pd中前10个交易数据："
   ]
  },
  {
   "cell_type": "code",
   "execution_count": 8,
   "metadata": {
    "collapsed": false
   },
   "outputs": [
    {
     "data": {
      "text/html": [
       "<div>\n",
       "<table border=\"1\" class=\"dataframe\">\n",
       "  <thead>\n",
       "    <tr style=\"text-align: right;\">\n",
       "      <th></th>\n",
       "      <th>buy_date</th>\n",
       "      <th>buy_price</th>\n",
       "      <th>buy_cnt</th>\n",
       "      <th>buy_factor</th>\n",
       "      <th>symbol</th>\n",
       "      <th>buy_pos</th>\n",
       "      <th>buy_type_str</th>\n",
       "      <th>expect_direction</th>\n",
       "      <th>sell_type_extra</th>\n",
       "      <th>sell_date</th>\n",
       "      <th>sell_price</th>\n",
       "      <th>sell_type</th>\n",
       "      <th>ml_features</th>\n",
       "      <th>key</th>\n",
       "      <th>profit</th>\n",
       "      <th>result</th>\n",
       "    </tr>\n",
       "  </thead>\n",
       "  <tbody>\n",
       "    <tr>\n",
       "      <th>2014-10-24</th>\n",
       "      <td>20141024</td>\n",
       "      <td>105.010</td>\n",
       "      <td>1904.0</td>\n",
       "      <td>AbuFactorBuyBreak:60</td>\n",
       "      <td>usAAPL</td>\n",
       "      <td>AbuAtrPosition</td>\n",
       "      <td>call</td>\n",
       "      <td>1.0</td>\n",
       "      <td>AbuFactorPreAtrNStop:pre_atr=1.0</td>\n",
       "      <td>20141202</td>\n",
       "      <td>114.2500</td>\n",
       "      <td>win</td>\n",
       "      <td>None</td>\n",
       "      <td>64</td>\n",
       "      <td>17592.96</td>\n",
       "      <td>1</td>\n",
       "    </tr>\n",
       "    <tr>\n",
       "      <th>2014-10-24</th>\n",
       "      <td>20141024</td>\n",
       "      <td>105.010</td>\n",
       "      <td>1904.0</td>\n",
       "      <td>AbuFactorBuyBreak:42</td>\n",
       "      <td>usAAPL</td>\n",
       "      <td>AbuAtrPosition</td>\n",
       "      <td>call</td>\n",
       "      <td>1.0</td>\n",
       "      <td>AbuFactorPreAtrNStop:pre_atr=1.0</td>\n",
       "      <td>20141202</td>\n",
       "      <td>114.2500</td>\n",
       "      <td>win</td>\n",
       "      <td>None</td>\n",
       "      <td>64</td>\n",
       "      <td>17592.96</td>\n",
       "      <td>1</td>\n",
       "    </tr>\n",
       "    <tr>\n",
       "      <th>2014-10-29</th>\n",
       "      <td>20141029</td>\n",
       "      <td>223.680</td>\n",
       "      <td>781.0</td>\n",
       "      <td>AbuFactorBuyBreak:42</td>\n",
       "      <td>usBIDU</td>\n",
       "      <td>AbuAtrPosition</td>\n",
       "      <td>call</td>\n",
       "      <td>1.0</td>\n",
       "      <td>AbuFactorPreAtrNStop:pre_atr=1.0</td>\n",
       "      <td>20141202</td>\n",
       "      <td>235.8100</td>\n",
       "      <td>win</td>\n",
       "      <td>None</td>\n",
       "      <td>67</td>\n",
       "      <td>9473.53</td>\n",
       "      <td>1</td>\n",
       "    </tr>\n",
       "    <tr>\n",
       "      <th>2014-10-29</th>\n",
       "      <td>20141029</td>\n",
       "      <td>16.010</td>\n",
       "      <td>9217.0</td>\n",
       "      <td>AbuFactorBuyBreak:42</td>\n",
       "      <td>usNOAH</td>\n",
       "      <td>AbuAtrPosition</td>\n",
       "      <td>call</td>\n",
       "      <td>1.0</td>\n",
       "      <td>AbuFactorAtrNStop:stop_win=3.0</td>\n",
       "      <td>20141208</td>\n",
       "      <td>24.0500</td>\n",
       "      <td>win</td>\n",
       "      <td>None</td>\n",
       "      <td>67</td>\n",
       "      <td>74104.68</td>\n",
       "      <td>1</td>\n",
       "    </tr>\n",
       "    <tr>\n",
       "      <th>2014-10-29</th>\n",
       "      <td>20141029</td>\n",
       "      <td>21.430</td>\n",
       "      <td>6095.0</td>\n",
       "      <td>AbuFactorBuyBreak:42</td>\n",
       "      <td>usVIPS</td>\n",
       "      <td>AbuAtrPosition</td>\n",
       "      <td>call</td>\n",
       "      <td>1.0</td>\n",
       "      <td>AbuFactorPreAtrNStop:pre_atr=1.0</td>\n",
       "      <td>20141105</td>\n",
       "      <td>23.4700</td>\n",
       "      <td>win</td>\n",
       "      <td>None</td>\n",
       "      <td>67</td>\n",
       "      <td>12433.80</td>\n",
       "      <td>1</td>\n",
       "    </tr>\n",
       "    <tr>\n",
       "      <th>2014-10-29</th>\n",
       "      <td>20141029</td>\n",
       "      <td>223.680</td>\n",
       "      <td>781.0</td>\n",
       "      <td>AbuFactorBuyBreak:60</td>\n",
       "      <td>usBIDU</td>\n",
       "      <td>AbuAtrPosition</td>\n",
       "      <td>call</td>\n",
       "      <td>1.0</td>\n",
       "      <td>AbuFactorPreAtrNStop:pre_atr=1.0</td>\n",
       "      <td>20141202</td>\n",
       "      <td>235.8100</td>\n",
       "      <td>win</td>\n",
       "      <td>None</td>\n",
       "      <td>67</td>\n",
       "      <td>9473.53</td>\n",
       "      <td>1</td>\n",
       "    </tr>\n",
       "    <tr>\n",
       "      <th>2014-11-03</th>\n",
       "      <td>20141103</td>\n",
       "      <td>23.364</td>\n",
       "      <td>5900.0</td>\n",
       "      <td>AbuFactorBuyBreak:60</td>\n",
       "      <td>usVIPS</td>\n",
       "      <td>AbuAtrPosition</td>\n",
       "      <td>call</td>\n",
       "      <td>1.0</td>\n",
       "      <td>AbuFactorPreAtrNStop:pre_atr=1.0</td>\n",
       "      <td>20141105</td>\n",
       "      <td>23.4700</td>\n",
       "      <td>win</td>\n",
       "      <td>None</td>\n",
       "      <td>70</td>\n",
       "      <td>625.40</td>\n",
       "      <td>1</td>\n",
       "    </tr>\n",
       "    <tr>\n",
       "      <th>2014-11-11</th>\n",
       "      <td>20141111</td>\n",
       "      <td>16.990</td>\n",
       "      <td>9491.0</td>\n",
       "      <td>AbuFactorBuyBreak:60</td>\n",
       "      <td>usNOAH</td>\n",
       "      <td>AbuAtrPosition</td>\n",
       "      <td>call</td>\n",
       "      <td>1.0</td>\n",
       "      <td>AbuFactorCloseAtrNStop:close_atr_n=1.5</td>\n",
       "      <td>20141211</td>\n",
       "      <td>20.1450</td>\n",
       "      <td>win</td>\n",
       "      <td>None</td>\n",
       "      <td>76</td>\n",
       "      <td>29944.10</td>\n",
       "      <td>1</td>\n",
       "    </tr>\n",
       "    <tr>\n",
       "      <th>2014-11-12</th>\n",
       "      <td>20141112</td>\n",
       "      <td>43.250</td>\n",
       "      <td>2945.0</td>\n",
       "      <td>AbuFactorBuyBreak:42</td>\n",
       "      <td>usWUBA</td>\n",
       "      <td>AbuAtrPosition</td>\n",
       "      <td>call</td>\n",
       "      <td>1.0</td>\n",
       "      <td>AbuFactorPreAtrNStop:pre_atr=1.0</td>\n",
       "      <td>20141209</td>\n",
       "      <td>42.6425</td>\n",
       "      <td>loss</td>\n",
       "      <td>None</td>\n",
       "      <td>77</td>\n",
       "      <td>-1789.09</td>\n",
       "      <td>-1</td>\n",
       "    </tr>\n",
       "    <tr>\n",
       "      <th>2014-11-26</th>\n",
       "      <td>20141126</td>\n",
       "      <td>47.100</td>\n",
       "      <td>3262.0</td>\n",
       "      <td>AbuFactorBuyBreak:60</td>\n",
       "      <td>usWUBA</td>\n",
       "      <td>AbuAtrPosition</td>\n",
       "      <td>call</td>\n",
       "      <td>1.0</td>\n",
       "      <td>AbuFactorAtrNStop:stop_loss=0.5</td>\n",
       "      <td>20141209</td>\n",
       "      <td>42.6425</td>\n",
       "      <td>loss</td>\n",
       "      <td>None</td>\n",
       "      <td>87</td>\n",
       "      <td>-14540.36</td>\n",
       "      <td>-1</td>\n",
       "    </tr>\n",
       "  </tbody>\n",
       "</table>\n",
       "</div>"
      ],
      "text/plain": [
       "            buy_date  buy_price  buy_cnt            buy_factor  symbol  \\\n",
       "2014-10-24  20141024    105.010   1904.0  AbuFactorBuyBreak:60  usAAPL   \n",
       "2014-10-24  20141024    105.010   1904.0  AbuFactorBuyBreak:42  usAAPL   \n",
       "2014-10-29  20141029    223.680    781.0  AbuFactorBuyBreak:42  usBIDU   \n",
       "2014-10-29  20141029     16.010   9217.0  AbuFactorBuyBreak:42  usNOAH   \n",
       "2014-10-29  20141029     21.430   6095.0  AbuFactorBuyBreak:42  usVIPS   \n",
       "2014-10-29  20141029    223.680    781.0  AbuFactorBuyBreak:60  usBIDU   \n",
       "2014-11-03  20141103     23.364   5900.0  AbuFactorBuyBreak:60  usVIPS   \n",
       "2014-11-11  20141111     16.990   9491.0  AbuFactorBuyBreak:60  usNOAH   \n",
       "2014-11-12  20141112     43.250   2945.0  AbuFactorBuyBreak:42  usWUBA   \n",
       "2014-11-26  20141126     47.100   3262.0  AbuFactorBuyBreak:60  usWUBA   \n",
       "\n",
       "                   buy_pos buy_type_str  expect_direction  \\\n",
       "2014-10-24  AbuAtrPosition         call               1.0   \n",
       "2014-10-24  AbuAtrPosition         call               1.0   \n",
       "2014-10-29  AbuAtrPosition         call               1.0   \n",
       "2014-10-29  AbuAtrPosition         call               1.0   \n",
       "2014-10-29  AbuAtrPosition         call               1.0   \n",
       "2014-10-29  AbuAtrPosition         call               1.0   \n",
       "2014-11-03  AbuAtrPosition         call               1.0   \n",
       "2014-11-11  AbuAtrPosition         call               1.0   \n",
       "2014-11-12  AbuAtrPosition         call               1.0   \n",
       "2014-11-26  AbuAtrPosition         call               1.0   \n",
       "\n",
       "                                   sell_type_extra  sell_date  sell_price  \\\n",
       "2014-10-24        AbuFactorPreAtrNStop:pre_atr=1.0   20141202    114.2500   \n",
       "2014-10-24        AbuFactorPreAtrNStop:pre_atr=1.0   20141202    114.2500   \n",
       "2014-10-29        AbuFactorPreAtrNStop:pre_atr=1.0   20141202    235.8100   \n",
       "2014-10-29          AbuFactorAtrNStop:stop_win=3.0   20141208     24.0500   \n",
       "2014-10-29        AbuFactorPreAtrNStop:pre_atr=1.0   20141105     23.4700   \n",
       "2014-10-29        AbuFactorPreAtrNStop:pre_atr=1.0   20141202    235.8100   \n",
       "2014-11-03        AbuFactorPreAtrNStop:pre_atr=1.0   20141105     23.4700   \n",
       "2014-11-11  AbuFactorCloseAtrNStop:close_atr_n=1.5   20141211     20.1450   \n",
       "2014-11-12        AbuFactorPreAtrNStop:pre_atr=1.0   20141209     42.6425   \n",
       "2014-11-26         AbuFactorAtrNStop:stop_loss=0.5   20141209     42.6425   \n",
       "\n",
       "           sell_type ml_features  key    profit  result  \n",
       "2014-10-24       win        None   64  17592.96       1  \n",
       "2014-10-24       win        None   64  17592.96       1  \n",
       "2014-10-29       win        None   67   9473.53       1  \n",
       "2014-10-29       win        None   67  74104.68       1  \n",
       "2014-10-29       win        None   67  12433.80       1  \n",
       "2014-10-29       win        None   67   9473.53       1  \n",
       "2014-11-03       win        None   70    625.40       1  \n",
       "2014-11-11       win        None   76  29944.10       1  \n",
       "2014-11-12      loss        None   77  -1789.09      -1  \n",
       "2014-11-26      loss        None   87 -14540.36      -1  "
      ]
     },
     "execution_count": 8,
     "metadata": {},
     "output_type": "execute_result"
    }
   ],
   "source": [
    "orders_pd[:10]"
   ]
  },
  {
   "cell_type": "markdown",
   "metadata": {},
   "source": [
    "通过buy_cnt列可以发现每次交易数量都不一样，由于内部有资金管理控制模块默认使用atr进行仓位控制\n",
    "\n",
    "默认资金管理控制使用AbuAtrPosition，详情请阅读源代码，下面会有自定义仓位管理的示例。"
   ]
  },
  {
   "cell_type": "markdown",
   "metadata": {},
   "source": [
    "下面代码显示action_pd中前10个行为数据："
   ]
  },
  {
   "cell_type": "code",
   "execution_count": 10,
   "metadata": {
    "collapsed": false
   },
   "outputs": [
    {
     "data": {
      "text/html": [
       "<div>\n",
       "<table border=\"1\" class=\"dataframe\">\n",
       "  <thead>\n",
       "    <tr style=\"text-align: right;\">\n",
       "      <th></th>\n",
       "      <th>Date</th>\n",
       "      <th>Price</th>\n",
       "      <th>Cnt</th>\n",
       "      <th>symbol</th>\n",
       "      <th>Direction</th>\n",
       "      <th>Price2</th>\n",
       "      <th>action</th>\n",
       "      <th>deal</th>\n",
       "    </tr>\n",
       "  </thead>\n",
       "  <tbody>\n",
       "    <tr>\n",
       "      <th>0</th>\n",
       "      <td>20141024</td>\n",
       "      <td>105.010</td>\n",
       "      <td>1904.0</td>\n",
       "      <td>usAAPL</td>\n",
       "      <td>1.0</td>\n",
       "      <td>114.250</td>\n",
       "      <td>buy</td>\n",
       "      <td>True</td>\n",
       "    </tr>\n",
       "    <tr>\n",
       "      <th>1</th>\n",
       "      <td>20141024</td>\n",
       "      <td>105.010</td>\n",
       "      <td>1904.0</td>\n",
       "      <td>usAAPL</td>\n",
       "      <td>1.0</td>\n",
       "      <td>114.250</td>\n",
       "      <td>buy</td>\n",
       "      <td>True</td>\n",
       "    </tr>\n",
       "    <tr>\n",
       "      <th>2</th>\n",
       "      <td>20141029</td>\n",
       "      <td>16.010</td>\n",
       "      <td>9217.0</td>\n",
       "      <td>usNOAH</td>\n",
       "      <td>1.0</td>\n",
       "      <td>24.050</td>\n",
       "      <td>buy</td>\n",
       "      <td>True</td>\n",
       "    </tr>\n",
       "    <tr>\n",
       "      <th>3</th>\n",
       "      <td>20141029</td>\n",
       "      <td>223.680</td>\n",
       "      <td>781.0</td>\n",
       "      <td>usBIDU</td>\n",
       "      <td>1.0</td>\n",
       "      <td>235.810</td>\n",
       "      <td>buy</td>\n",
       "      <td>True</td>\n",
       "    </tr>\n",
       "    <tr>\n",
       "      <th>4</th>\n",
       "      <td>20141029</td>\n",
       "      <td>223.680</td>\n",
       "      <td>781.0</td>\n",
       "      <td>usBIDU</td>\n",
       "      <td>1.0</td>\n",
       "      <td>235.810</td>\n",
       "      <td>buy</td>\n",
       "      <td>True</td>\n",
       "    </tr>\n",
       "    <tr>\n",
       "      <th>5</th>\n",
       "      <td>20141029</td>\n",
       "      <td>21.430</td>\n",
       "      <td>6095.0</td>\n",
       "      <td>usVIPS</td>\n",
       "      <td>1.0</td>\n",
       "      <td>23.470</td>\n",
       "      <td>buy</td>\n",
       "      <td>False</td>\n",
       "    </tr>\n",
       "    <tr>\n",
       "      <th>6</th>\n",
       "      <td>20141103</td>\n",
       "      <td>23.364</td>\n",
       "      <td>5900.0</td>\n",
       "      <td>usVIPS</td>\n",
       "      <td>1.0</td>\n",
       "      <td>23.470</td>\n",
       "      <td>buy</td>\n",
       "      <td>False</td>\n",
       "    </tr>\n",
       "    <tr>\n",
       "      <th>7</th>\n",
       "      <td>20141105</td>\n",
       "      <td>23.470</td>\n",
       "      <td>6095.0</td>\n",
       "      <td>usVIPS</td>\n",
       "      <td>1.0</td>\n",
       "      <td>21.430</td>\n",
       "      <td>sell</td>\n",
       "      <td>False</td>\n",
       "    </tr>\n",
       "    <tr>\n",
       "      <th>8</th>\n",
       "      <td>20141105</td>\n",
       "      <td>23.470</td>\n",
       "      <td>5900.0</td>\n",
       "      <td>usVIPS</td>\n",
       "      <td>1.0</td>\n",
       "      <td>23.364</td>\n",
       "      <td>sell</td>\n",
       "      <td>False</td>\n",
       "    </tr>\n",
       "    <tr>\n",
       "      <th>9</th>\n",
       "      <td>20141111</td>\n",
       "      <td>16.990</td>\n",
       "      <td>9491.0</td>\n",
       "      <td>usNOAH</td>\n",
       "      <td>1.0</td>\n",
       "      <td>20.145</td>\n",
       "      <td>buy</td>\n",
       "      <td>False</td>\n",
       "    </tr>\n",
       "  </tbody>\n",
       "</table>\n",
       "</div>"
      ],
      "text/plain": [
       "       Date    Price     Cnt  symbol  Direction   Price2 action   deal\n",
       "0  20141024  105.010  1904.0  usAAPL        1.0  114.250    buy   True\n",
       "1  20141024  105.010  1904.0  usAAPL        1.0  114.250    buy   True\n",
       "2  20141029   16.010  9217.0  usNOAH        1.0   24.050    buy   True\n",
       "3  20141029  223.680   781.0  usBIDU        1.0  235.810    buy   True\n",
       "4  20141029  223.680   781.0  usBIDU        1.0  235.810    buy   True\n",
       "5  20141029   21.430  6095.0  usVIPS        1.0   23.470    buy  False\n",
       "6  20141103   23.364  5900.0  usVIPS        1.0   23.470    buy  False\n",
       "7  20141105   23.470  6095.0  usVIPS        1.0   21.430   sell  False\n",
       "8  20141105   23.470  5900.0  usVIPS        1.0   23.364   sell  False\n",
       "9  20141111   16.990  9491.0  usNOAH        1.0   20.145    buy  False"
      ]
     },
     "execution_count": 10,
     "metadata": {},
     "output_type": "execute_result"
    }
   ],
   "source": [
    "action_pd[:10]"
   ]
  },
  {
   "cell_type": "markdown",
   "metadata": {},
   "source": [
    "* 注意deal列代表了交易是否成交，由于内部有资金管理控制模块，所以不是所有交易信号都可以最后成交。"
   ]
  },
  {
   "cell_type": "markdown",
   "metadata": {},
   "source": [
    "下面我们使用abu量化系统度量模块对整体结果做个度量，如下图所示（之后章节会对度量方法及模块进行详细讲解，这里请先简单使用即可）。"
   ]
  },
  {
   "cell_type": "code",
   "execution_count": 11,
   "metadata": {
    "collapsed": false
   },
   "outputs": [
    {
     "name": "stderr",
     "output_type": "stream",
     "text": [
      "买入后卖出的交易数量:67\n",
      "买入后尚未卖出的交易数量:3\n",
      "胜率:43.2836%\n",
      "平均获利期望:12.2712%\n",
      "平均亏损期望:-4.9050%\n",
      "盈亏比:1.9327\n",
      "策略收益: 29.4383%\n",
      "基准收益: 15.0841%\n",
      "策略年化收益: 14.7192%\n",
      "基准年化收益: 7.5420%\n",
      "策略买入成交比例:84.2857%\n",
      "策略资金利用率比例:22.3612%\n",
      "策略共执行504个交易日\n"
     ]
    },
    {
     "data": {
      "image/png": "[encoded data removed]",
      "text/plain": [
       "<matplotlib.figure.Figure at 0x119828978>"
      ]
     },
     "metadata": {},
     "output_type": "display_data"
    }
   ],
   "source": [
    "from abupy import AbuMetricsBase \n",
    "metrics = AbuMetricsBase(orders_pd, action_pd, capital, benchmark)\n",
    "metrics.fit_metrics()\n",
    "metrics.plot_returns_cmp(only_show_returns=True)"
   ]
  },
  {
   "cell_type": "markdown",
   "metadata": {},
   "source": [
    "### 2. 自定义仓位管理策略的实现"
   ]
  },
  {
   "cell_type": "markdown",
   "metadata": {},
   "source": [
    "上面使用AbuMetricsBase进行度量，我们计算出：\n",
    "\n",
    "1. 胜率:41.79%\n",
    "2. 平均获利期望:12.01%\n",
    "3. 平均亏损期望:-4.91%\n",
    "    \n",
    "有这三个参数就可以使用kelly公式来做仓位控制，AbuKellyPosition实现如下："
   ]
  },
  {
   "cell_type": "code",
   "execution_count": 12,
   "metadata": {
    "collapsed": true
   },
   "outputs": [],
   "source": [
    "class AbuKellyPosition(AbuPositionBase):\n",
    "    \"\"\"示例kelly仓位管理类\"\"\"\n",
    "\n",
    "    def fit_position(self, factor_object):\n",
    "        \"\"\"\n",
    "        fit_position计算的结果是买入多少个单位（股，手，顿，合约）\n",
    "        需要factor_object策略因子对象通过历史回测统计胜率，期望收益，期望亏损，\n",
    "        并设置构造当前factor_object对象，通过kelly公司计算仓位\n",
    "        :param factor_object: ABuFactorBuyBases子类实例对象\n",
    "        :return:买入多少个单位（股，手，顿，合约）\n",
    "        \"\"\"\n",
    "        # 败率\n",
    "        loss_rate = 1 - self.win_rate\n",
    "        # kelly计算出仓位比例\n",
    "        kelly_pos = self.win_rate - loss_rate / (self.gains_mean / self.losses_mean)\n",
    "        # 最大仓位限制，依然受上层最大仓位控制限制，eg：如果kelly计算出全仓，依然会减少到75%，如修改需要修改最大仓位值\n",
    "        kelly_pos = self.pos_max if kelly_pos > self.pos_max else kelly_pos\n",
    "        # 结果是买入多少个单位（股，手，顿，合约）\n",
    "        return self.read_cash * kelly_pos / self.bp * self.deposit_rate\n",
    "\n",
    "    def _init_self(self, **kwargs):\n",
    "        \"\"\"kelly仓位控制管理类初始化设置\"\"\"\n",
    "\n",
    "        # 默认kelly仓位胜率0.50\n",
    "        self.win_rate = kwargs.pop('win_rate', 0.50)\n",
    "        # 默认平均获利期望0.10\n",
    "        self.gains_mean = kwargs.pop('gains_mean', 0.10)\n",
    "        # 默认平均亏损期望0.05\n",
    "        self.losses_mean = kwargs.pop('losses_mean', 0.05)\n",
    "\n",
    "        \"\"\"以默认的设置kelly根据计算0.5 - 0.5 / (0.10 / 0.05) 仓位将是0.25即25%\"\"\""
   ]
  },
  {
   "cell_type": "markdown",
   "metadata": {},
   "source": [
    "自定义仓位管理代码如上AbuKellyPosition：\n",
    "\n",
    "1. 仓位管理类需要继承AbuPositionBase\n",
    "2. 仓位管理类主要需要实现函数fit_position，即根据买入价格，本金基数等融合买入策略对买入单位进行计算\n",
    "3. 仓位管理类主要需要实现函数_init_self，外部通过字典参数将胜率等参数进行关键子参数设置（详见后使用示例）\n",
    "\n",
    "更多资金管理代码请阅读AbuPositionBase\n",
    "\n",
    "下面编写buy_factors2，其42d突破使用position＝AbuKellyPosition\n",
    "\n",
    "* 参数胜率：metrics.win_rate(41.79%)\n",
    "* 期望收益：metrics.gains_mean(12.01%)\n",
    "* 期望亏损：metrics.losses_mean(-4.91%)，\n",
    "\n",
    "代码如下所示："
   ]
  },
  {
   "cell_type": "code",
   "execution_count": 13,
   "metadata": {
    "collapsed": false
   },
   "outputs": [
    {
     "name": "stdout",
     "output_type": "stream",
     "text": [
      "capital.apply_action::100.0%\r"
     ]
    }
   ],
   "source": [
    "from abupy import AbuKellyPosition\n",
    "\n",
    "# 42d使用刚刚编写的AbuKellyPosition，60d仍然使用默认仓位管理类，即abupy中内置的AbuAtrPosition类\n",
    "buy_factors2 = [{'xd': 60, 'class': AbuFactorBuyBreak},\n",
    "                {'xd': 42, 'position': {'class': AbuKellyPosition, 'win_rate': metrics.win_rate, \n",
    "                                        'gains_mean': metrics.gains_mean, 'losses_mean': -metrics.losses_mean},\n",
    "                 'class': AbuFactorBuyBreak}]\n",
    "\n",
    "capital = AbuCapital(1000000, benchmark)\n",
    "orders_pd, action_pd, all_fit_symbols_cnt = ABuPickTimeExecute.do_symbols_with_same_factors(choice_symbols,\n",
    "                                                                                            benchmark,\n",
    "                                                                                            buy_factors2,\n",
    "                                                                                            sell_factors,\n",
    "                                                                                            capital,\n",
    "                                                                                            show=False)"
   ]
  },
  {
   "cell_type": "markdown",
   "metadata": {},
   "source": [
    "从输出生成的orders_pd中可以看到buy Pos列所有42d突破都使用了AbuKellyPosition，60d仍然使用AbuAtrPosition"
   ]
  },
  {
   "cell_type": "code",
   "execution_count": 14,
   "metadata": {
    "collapsed": false
   },
   "outputs": [
    {
     "data": {
      "text/html": [
       "<div>\n",
       "<table border=\"1\" class=\"dataframe\">\n",
       "  <thead>\n",
       "    <tr style=\"text-align: right;\">\n",
       "      <th></th>\n",
       "      <th>symbol</th>\n",
       "      <th>buy_cnt</th>\n",
       "      <th>buy_factor</th>\n",
       "      <th>buy_pos</th>\n",
       "    </tr>\n",
       "  </thead>\n",
       "  <tbody>\n",
       "    <tr>\n",
       "      <th>2014-10-24</th>\n",
       "      <td>usAAPL</td>\n",
       "      <td>1904.0</td>\n",
       "      <td>AbuFactorBuyBreak:60</td>\n",
       "      <td>AbuAtrPosition</td>\n",
       "    </tr>\n",
       "    <tr>\n",
       "      <th>2014-10-24</th>\n",
       "      <td>usAAPL</td>\n",
       "      <td>1962.0</td>\n",
       "      <td>AbuFactorBuyBreak:42</td>\n",
       "      <td>AbuKellyPosition</td>\n",
       "    </tr>\n",
       "    <tr>\n",
       "      <th>2014-10-29</th>\n",
       "      <td>usBIDU</td>\n",
       "      <td>921.0</td>\n",
       "      <td>AbuFactorBuyBreak:42</td>\n",
       "      <td>AbuKellyPosition</td>\n",
       "    </tr>\n",
       "    <tr>\n",
       "      <th>2014-10-29</th>\n",
       "      <td>usNOAH</td>\n",
       "      <td>12875.0</td>\n",
       "      <td>AbuFactorBuyBreak:42</td>\n",
       "      <td>AbuKellyPosition</td>\n",
       "    </tr>\n",
       "    <tr>\n",
       "      <th>2014-10-29</th>\n",
       "      <td>usVIPS</td>\n",
       "      <td>9618.0</td>\n",
       "      <td>AbuFactorBuyBreak:42</td>\n",
       "      <td>AbuKellyPosition</td>\n",
       "    </tr>\n",
       "    <tr>\n",
       "      <th>2014-10-29</th>\n",
       "      <td>usBIDU</td>\n",
       "      <td>781.0</td>\n",
       "      <td>AbuFactorBuyBreak:60</td>\n",
       "      <td>AbuAtrPosition</td>\n",
       "    </tr>\n",
       "    <tr>\n",
       "      <th>2014-11-03</th>\n",
       "      <td>usVIPS</td>\n",
       "      <td>5900.0</td>\n",
       "      <td>AbuFactorBuyBreak:60</td>\n",
       "      <td>AbuAtrPosition</td>\n",
       "    </tr>\n",
       "    <tr>\n",
       "      <th>2014-11-11</th>\n",
       "      <td>usNOAH</td>\n",
       "      <td>9491.0</td>\n",
       "      <td>AbuFactorBuyBreak:60</td>\n",
       "      <td>AbuAtrPosition</td>\n",
       "    </tr>\n",
       "    <tr>\n",
       "      <th>2014-11-12</th>\n",
       "      <td>usWUBA</td>\n",
       "      <td>4765.0</td>\n",
       "      <td>AbuFactorBuyBreak:42</td>\n",
       "      <td>AbuKellyPosition</td>\n",
       "    </tr>\n",
       "    <tr>\n",
       "      <th>2014-11-26</th>\n",
       "      <td>usWUBA</td>\n",
       "      <td>3262.0</td>\n",
       "      <td>AbuFactorBuyBreak:60</td>\n",
       "      <td>AbuAtrPosition</td>\n",
       "    </tr>\n",
       "  </tbody>\n",
       "</table>\n",
       "</div>"
      ],
      "text/plain": [
       "            symbol  buy_cnt            buy_factor           buy_pos\n",
       "2014-10-24  usAAPL   1904.0  AbuFactorBuyBreak:60    AbuAtrPosition\n",
       "2014-10-24  usAAPL   1962.0  AbuFactorBuyBreak:42  AbuKellyPosition\n",
       "2014-10-29  usBIDU    921.0  AbuFactorBuyBreak:42  AbuKellyPosition\n",
       "2014-10-29  usNOAH  12875.0  AbuFactorBuyBreak:42  AbuKellyPosition\n",
       "2014-10-29  usVIPS   9618.0  AbuFactorBuyBreak:42  AbuKellyPosition\n",
       "2014-10-29  usBIDU    781.0  AbuFactorBuyBreak:60    AbuAtrPosition\n",
       "2014-11-03  usVIPS   5900.0  AbuFactorBuyBreak:60    AbuAtrPosition\n",
       "2014-11-11  usNOAH   9491.0  AbuFactorBuyBreak:60    AbuAtrPosition\n",
       "2014-11-12  usWUBA   4765.0  AbuFactorBuyBreak:42  AbuKellyPosition\n",
       "2014-11-26  usWUBA   3262.0  AbuFactorBuyBreak:60    AbuAtrPosition"
      ]
     },
     "execution_count": 14,
     "metadata": {},
     "output_type": "execute_result"
    }
   ],
   "source": [
    "orders_pd[:10].filter(['symbol', 'buy_cnt', 'buy_factor', 'buy_pos'])"
   ]
  },
  {
   "cell_type": "markdown",
   "metadata": {},
   "source": [
    "### 3. 多支股票使用不同的因子进行择时 \n",
    "\n",
    "使用ABuPickTimeExecute.do_symbols_with_diff_factors()函数针对不同的股票使用不同的买入因子和不同的卖出因子，\n",
    "\n",
    "具体实现请查阅源代码ABuPickTimeExecute，使用示例如下："
   ]
  },
  {
   "cell_type": "code",
   "execution_count": 15,
   "metadata": {
    "collapsed": false
   },
   "outputs": [
    {
     "name": "stdout",
     "output_type": "stream",
     "text": [
      "capital.apply_action::100.0%\r"
     ]
    }
   ],
   "source": [
    "# 选定noah和sfun\n",
    "target_symbols = ['usSFUN', 'usNOAH']\n",
    "\n",
    "# 针对sfun只使用42d向上突破作为买入因子\n",
    "buy_factors_sfun = [{'xd': 42, 'class': AbuFactorBuyBreak}]\n",
    "# 针对sfun只使用60d向下突破作为卖出因子\n",
    "sell_factors_sfun = [{'xd': 60, 'class': AbuFactorSellBreak}]\n",
    "\n",
    "# 针对noah只使用21d向上突破作为买入因子\n",
    "buy_factors_noah = [{'xd': 21, 'class': AbuFactorBuyBreak}]\n",
    "# 针对noah只使用42d向下突破作为卖出因子\n",
    "sell_factors_noah = [{'xd': 42, 'class': AbuFactorSellBreak}]\n",
    "\n",
    "factor_dict = dict()\n",
    "# 构建SFUN独立的buy_factors，sell_factors的dict\n",
    "factor_dict['usSFUN'] = {'buy_factors': buy_factors_sfun,\n",
    "                         'sell_factors': sell_factors_sfun}\n",
    "\n",
    "# 构建NOAH独立的buy_factors，sell_factors的dict\n",
    "factor_dict['usNOAH'] = {'buy_factors': buy_factors_noah,\n",
    "                         'sell_factors': sell_factors_noah}\n",
    "\n",
    "# 初始化资金\n",
    "capital = AbuCapital(1000000, benchmark)\n",
    "# 使用do_symbols_with_diff_factors执行\n",
    "orders_pd, action_pd, all_fit_symbols = ABuPickTimeExecute.do_symbols_with_diff_factors(target_symbols,\n",
    "                                                                                        benchmark,\n",
    "                                                                                        factor_dict,\n",
    "                                                                                        capital)"
   ]
  },
  {
   "cell_type": "markdown",
   "metadata": {},
   "source": [
    "如下代码通过pandas的交叉表来分析输出的orders_pd， 来证明: noah买入因子全部是使用21d向上突破，sfun买入因子全部是使用42d向上突破："
   ]
  },
  {
   "cell_type": "code",
   "execution_count": 16,
   "metadata": {
    "collapsed": false
   },
   "outputs": [
    {
     "data": {
      "text/html": [
       "<div>\n",
       "<table border=\"1\" class=\"dataframe\">\n",
       "  <thead>\n",
       "    <tr style=\"text-align: right;\">\n",
       "      <th>symbol</th>\n",
       "      <th>usNOAH</th>\n",
       "      <th>usSFUN</th>\n",
       "    </tr>\n",
       "    <tr>\n",
       "      <th>buy_factor</th>\n",
       "      <th></th>\n",
       "      <th></th>\n",
       "    </tr>\n",
       "  </thead>\n",
       "  <tbody>\n",
       "    <tr>\n",
       "      <th>AbuFactorBuyBreak:21</th>\n",
       "      <td>9</td>\n",
       "      <td>0</td>\n",
       "    </tr>\n",
       "    <tr>\n",
       "      <th>AbuFactorBuyBreak:42</th>\n",
       "      <td>0</td>\n",
       "      <td>4</td>\n",
       "    </tr>\n",
       "  </tbody>\n",
       "</table>\n",
       "</div>"
      ],
      "text/plain": [
       "symbol                usNOAH  usSFUN\n",
       "buy_factor                          \n",
       "AbuFactorBuyBreak:21       9       0\n",
       "AbuFactorBuyBreak:42       0       4"
      ]
     },
     "execution_count": 16,
     "metadata": {},
     "output_type": "execute_result"
    }
   ],
   "source": [
    "pd.crosstab(orders_pd.buy_factor, orders_pd.symbol)"
   ]
  },
  {
   "cell_type": "markdown",
   "metadata": {},
   "source": [
    "### 4. 使用并行来提升择时运行效率"
   ]
  },
  {
   "cell_type": "markdown",
   "metadata": {},
   "source": [
    "当你选择的股票非常多的时候，比如很多时候是对全市场进行回测，那就需要多进程并行来提升运行效率，AbuPickTimeMaster.do_symbols_with_same_factors_process()函数通过定义n_process_kl（同时获取股票数据的进程数）和n_process_pick_time（同时进行择时的进程数）来完成操作.\n",
    "\n",
    "具体实现代码请阅读AbuPickTimeMaster，使用示例如下所示："
   ]
  },
  {
   "cell_type": "code",
   "execution_count": 17,
   "metadata": {
    "collapsed": false,
    "scrolled": false
   },
   "outputs": [
    {
     "name": "stdout",
     "output_type": "stream",
     "text": [
      "CPU times: user 2.68 s, sys: 223 ms, total: 2.91 s\n",
      "Wall time: 11.9 s\n"
     ]
    }
   ],
   "source": [
    "%%time\n",
    "from abupy import AbuPickTimeMaster\n",
    "\n",
    "capital = AbuCapital(1000000, benchmark)\n",
    "orders_pd, action_pd, _ = AbuPickTimeMaster.do_symbols_with_same_factors_process(\n",
    "                                    choice_symbols, benchmark, buy_factors, sell_factors, capital,\n",
    "                                    n_process_kl=4, n_process_pick_time=4)"
   ]
  },
  {
   "cell_type": "markdown",
   "metadata": {},
   "source": [
    "依然使用%%time度量代码块运行时间，之前使用开始时使用ABuPickTimeExecute运行相同的回测输出运行时间18.3 s，\n",
    "使用AbuPickTimeMaster使用参数n_process_pick_time=8，即启动8个择时进程后，运行时间缩短到6.36s，从输出的信息也可以看到8个pid同时进行\n",
    "择时\n",
    "\n",
    "- pid:84544 pick times complete:100.0%\n",
    "- pid:84545 pick times complete:100.0%\n",
    "- pid:84546 pick times complete:100.0%\n",
    "- pid:84547 pick times complete:100.0%\n",
    "- pid:84548 pick times complete:100.0%\n",
    "- pid:84549 pick times complete:100.0%\n",
    "- pid:84550 pick times complete:100.0%\n",
    "- pid:84551 pick times complete:100.0%\n",
    "\n",
    "多进程的运行方式在进行多支股票设置全市场策略回测时是非常有用的，本节由于choice_symbols中的股票数少，n_process_kl即并行金融数据采集模块\n",
    "并没有使用，还有一些需要注意的地方也还没有讲到，在后续的全市场回测章节讲继续讲解。\n",
    "\n",
    "备注: \n",
    "\n",
    "**由于本例开辟进程数较多，但是每个进程处理的任务非常少，所以在cpu不够快的电脑上结果可能正好相反，多进程模式的运行也行会更加耗时，效率更低，属正常现象，后面的例子每个进程可能会处理几十几百个交易对象就不会出现创建销毁进程的开销大于任务执行时间的情况**\n",
    "\n",
    "* 特别是windows系统，mac上不会发生，由于mac上的并行使用joblib，在windows上长任务joblib存在bug，所以windows上并行只是封装为joblib的接口形式，详情阅读源代码ABuParallel"
   ]
  },
  {
   "cell_type": "markdown",
   "metadata": {
    "collapsed": true
   },
   "source": [
    "#### abu量化文档目录章节\n",
    "\n",
    "1. [择时策略的开发](http://www.abuquant.com/lecture/lecture_1.html)\n",
    "2. [择时策略的优化](http://www.abuquant.com/lecture/lecture_2.html)\n",
    "3. [滑点策略与交易手续费](http://www.abuquant.com/lecture/lecture_3.html)\n",
    "4. [多支股票择时回测与仓位管理](http://www.abuquant.com/lecture/lecture_4.html)\n",
    "5. [选股策略的开发](http://www.abuquant.com/lecture/lecture_5.html)\n",
    "6. [回测结果的度量](http://www.abuquant.com/lecture/lecture_6.html)\n",
    "7. [寻找策略最优参数和评分](http://www.abuquant.com/lecture/lecture_7.html)\n",
    "8. [A股市场的回测](http://www.abuquant.com/lecture/lecture_8.html)\n",
    "9. [港股市场的回测](http://www.abuquant.com/lecture/lecture_9.html)\n",
    "10. [比特币，莱特币的回测](http://www.abuquant.com/lecture/lecture_10.html)\n",
    "11. [期货市场的回测](http://www.abuquant.com/lecture/lecture_11.html)\n",
    "12. [机器学习与比特币示例](http://www.abuquant.com/lecture/lecture_12.html)\n",
    "13. [量化技术分析应用](http://www.abuquant.com/lecture/lecture_13.html)\n",
    "14. [量化相关性分析应用](http://www.abuquant.com/lecture/lecture_14.html)\n",
    "15. [量化交易和搜索引擎](http://www.abuquant.com/lecture/lecture_15.html)\n",
    "16. [UMP主裁交易决策](http://www.abuquant.com/lecture/lecture_16.html)\n",
    "17. [UMP边裁交易决策](http://www.abuquant.com/lecture/lecture_17.html)\n",
    "18. [自定义裁判决策交易](http://www.abuquant.com/lecture/lecture_18.html)\n",
    "19. [数据源](http://www.abuquant.com/lecture/lecture_19.html)\n",
    "20. [A股全市场回测](http://www.abuquant.com/lecture/lecture_20.html)\n",
    "21. [A股UMP决策](http://www.abuquant.com/lecture/lecture_21.html)\n",
    "22. [美股全市场回测](http://www.abuquant.com/lecture/lecture_22.html)\n",
    "23. [美股UMP决策](http://www.abuquant.com/lecture/lecture_23.html)\n",
    "abu量化系统文档教程持续更新中，请关注公众号中的更新提醒。\n",
    "\n",
    "#### 《量化交易之路》目录章节及随书代码地址\n",
    "\n",
    "1. [第二章 量化语言——Python](https://github.com/bbfamily/abu/tree/master/ipython/第二章-量化语言——Python.ipynb)\n",
    "2. [第三章 量化工具——NumPy](https://github.com/bbfamily/abu/tree/master/ipython/第三章-量化工具——NumPy.ipynb)\n",
    "3. [第四章 量化工具——pandas](https://github.com/bbfamily/abu/tree/master/ipython/第四章-量化工具——pandas.ipynb)\n",
    "4. [第五章 量化工具——可视化](https://github.com/bbfamily/abu/tree/master/ipython/第五章-量化工具——可视化.ipynb)\n",
    "5. [第六章 量化工具——数学：你一生的追求到底能带来多少幸福](https://github.com/bbfamily/abu/tree/master/ipython/第六章-量化工具——数学.ipynb)\n",
    "6. [第七章 量化系统——入门：三只小猪股票投资的故事](https://github.com/bbfamily/abu/tree/master/ipython/第七章-量化系统——入门.ipynb)\n",
    "7. [第八章 量化系统——开发](https://github.com/bbfamily/abu/tree/master/ipython/第八章-量化系统——开发.ipynb)\n",
    "8. [第九章 量化系统——度量与优化](https://github.com/bbfamily/abu/tree/master/ipython/第九章-量化系统——度量与优化.ipynb)\n",
    "9. [第十章 量化系统——机器学习•猪老三](https://github.com/bbfamily/abu/tree/master/ipython/第十章-量化系统——机器学习•猪老三.ipynb)\n",
    "10. [第十一章 量化系统——机器学习•ABU](https://github.com/bbfamily/abu/tree/master/ipython/第十一章-量化系统——机器学习•ABU.ipynb)\n",
    "11. [附录A 量化环境部署](https://github.com/bbfamily/abu/tree/master/ipython/附录A-量化环境部署.ipynb)\n",
    "12. [附录B 量化相关性分析](https://github.com/bbfamily/abu/tree/master/ipython/附录B-量化相关性分析.ipynb)\n",
    "13. [附录C 量化统计分析及指标应用](https://github.com/bbfamily/abu/tree/master/ipython/附录C-量化统计分析及指标应用.ipynb)\n",
    "\n",
    "\n",
    "[更多阿布量化量化技术文章](http://www.abuquant.com/article)\n",
    "\n",
    "\n",
    "更多关于量化交易相关请阅读[《量化交易之路》](http://www.abuquant.com/books/quantify-trading-road.html)\n",
    "\n",
    "更多关于量化交易与机器学习相关请阅读[《机器学习之路》](http://www.abuquant.com/books/machine-learning-road.html)\n",
    "\n",
    "更多关于abu量化系统请关注微信公众号: abu_quant\n",
    "\n",
    "如有任何问题也可在公众号中联系我的个人微信号。\n",
    "\n",
    "![](./image/qrcode.jpg)"
   ]
  }
 ],
 "metadata": {
  "kernelspec": {
   "display_name": "Python 3",
   "language": "python",
   "name": "python3"
  },
  "language_info": {
   "codemirror_mode": {
    "name": "ipython",
    "version": 3
   },
   "file_extension": ".py",
   "mimetype": "text/x-python",
   "name": "python",
   "nbconvert_exporter": "python",
   "pygments_lexer": "ipython3",
   "version": "3.6.2"
  }
 },
 "nbformat": 4,
 "nbformat_minor": 2
}
