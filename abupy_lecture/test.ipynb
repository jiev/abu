{
 "cells": [
  {
   "cell_type": "code",
   "execution_count": 1,
   "metadata": {
    "collapsed": false
   },
   "outputs": [],
   "source": [
    "# 基础库导入\n",
    "from __future__ import print_function\n",
    "from __future__ import division\n",
    "\n",
    "import warnings\n",
    "warnings.filterwarnings('ignore')\n",
    "warnings.simplefilter('ignore')\n",
    "\n",
    "import numpy as np\n",
    "import pandas as pd\n",
    "import matplotlib.pyplot as plt\n",
    "import ipywidgets\n",
    "%matplotlib inline\n",
    "\n",
    "import os\n",
    "import sys\n",
    "# 使用insert 0即只使用github，避免交叉使用了pip安装的abupy，导致的版本不一致问题\n",
    "sys.path.insert(0, os.path.abspath('../'))\n",
    "import abupy"
   ]
  },
  {
   "cell_type": "markdown",
   "metadata": {},
   "source": [
    "\n",
    "\n",
    "\n",
    "\n",
    "基础的数据获取，如下："
   ]
  },
  {
   "cell_type": "code",
   "execution_count": 2,
   "metadata": {
    "collapsed": false
   },
   "outputs": [],
   "source": [
    "from abupy import abu, EMarketTargetType, AbuMetricsBase, ABuMarketDrawing, ABuProgress, ABuSymbolPd, get_price, ABuIndustries\n",
    "from abupy import EMarketDataFetchMode, EDataCacheType, EMarketSourceType, FuturesBaseMarket, TCBaseMarket, ABuDateUtil\n",
    "from abupy import AbuDataParseWrap, StockBaseMarket, SupportMixin, ABuNetWork, Symbol, code_to_symbol\n",
    "\n",
    "abupy.env.g_market_target = EMarketTargetType.E_MARKET_TARGET_CN\n",
    "abupy.env.g_data_fetch_mode = EMarketDataFetchMode.E_DATA_FETCH_FORCE_NET\n",
    "\n",
    "abupy.env.g_market_source = EMarketSourceType.E_MARKET_SOURCE_tx\n",
    "abupy.env.g_data_cache_type = EDataCacheType.E_DATA_CACHE_CSV"
   ]
  },
  {
   "cell_type": "code",
   "execution_count": 3,
   "metadata": {
    "collapsed": false
   },
   "outputs": [
    {
     "name": "stdout",
     "output_type": "stream",
     "text": [
      "neednot download\n"
     ]
    }
   ],
   "source": [
    "downloadNow = False\n",
    "if downloadNow:\n",
    "    print(\"downloading...\")\n",
    "    abu.run_kl_update(start='2014-07-01', end='2020-07-01', market=EMarketTargetType.E_MARKET_TARGET_CN, n_jobs=10)\n",
    "else:\n",
    "    print(\"neednot download\")"
   ]
  },
  {
   "cell_type": "markdown",
   "metadata": {
    "collapsed": true
   },
   "source": [
    "测试获取到的数据："
   ]
  },
  {
   "cell_type": "code",
   "execution_count": 4,
   "metadata": {
    "collapsed": false
   },
   "outputs": [],
   "source": [
    "abupy.env.g_data_fetch_mode = EMarketDataFetchMode.E_DATA_FETCH_FORCE_LOCAL"
   ]
  },
  {
   "cell_type": "code",
   "execution_count": 5,
   "metadata": {
    "collapsed": false,
    "scrolled": true
   },
   "outputs": [
    {
     "data": {
      "text/html": [
       "<div>\n",
       "<style scoped>\n",
       "    .dataframe tbody tr th:only-of-type {\n",
       "        vertical-align: middle;\n",
       "    }\n",
       "\n",
       "    .dataframe tbody tr th {\n",
       "        vertical-align: top;\n",
       "    }\n",
       "\n",
       "    .dataframe thead th {\n",
       "        text-align: right;\n",
       "    }\n",
       "</style>\n",
       "<table border=\"1\" class=\"dataframe\">\n",
       "  <thead>\n",
       "    <tr style=\"text-align: right;\">\n",
       "      <th></th>\n",
       "      <th>open</th>\n",
       "      <th>close</th>\n",
       "      <th>high</th>\n",
       "      <th>low</th>\n",
       "      <th>volume</th>\n",
       "      <th>date</th>\n",
       "      <th>pre_close</th>\n",
       "      <th>date_week</th>\n",
       "      <th>p_change</th>\n",
       "      <th>atr21</th>\n",
       "      <th>atr14</th>\n",
       "      <th>key</th>\n",
       "    </tr>\n",
       "  </thead>\n",
       "  <tbody>\n",
       "    <tr>\n",
       "      <th>2020-06-23</th>\n",
       "      <td>9.81</td>\n",
       "      <td>9.05</td>\n",
       "      <td>9.85</td>\n",
       "      <td>9.02</td>\n",
       "      <td>4390657</td>\n",
       "      <td>20200623</td>\n",
       "      <td>9.94</td>\n",
       "      <td>1</td>\n",
       "      <td>-8.954</td>\n",
       "      <td>0.6015</td>\n",
       "      <td>0.6570</td>\n",
       "      <td>499</td>\n",
       "    </tr>\n",
       "    <tr>\n",
       "      <th>2020-06-24</th>\n",
       "      <td>9.08</td>\n",
       "      <td>8.86</td>\n",
       "      <td>9.16</td>\n",
       "      <td>8.66</td>\n",
       "      <td>2315919</td>\n",
       "      <td>20200624</td>\n",
       "      <td>9.05</td>\n",
       "      <td>2</td>\n",
       "      <td>-2.099</td>\n",
       "      <td>0.6632</td>\n",
       "      <td>0.7401</td>\n",
       "      <td>500</td>\n",
       "    </tr>\n",
       "    <tr>\n",
       "      <th>2020-06-29</th>\n",
       "      <td>8.95</td>\n",
       "      <td>8.91</td>\n",
       "      <td>9.15</td>\n",
       "      <td>8.85</td>\n",
       "      <td>1993947</td>\n",
       "      <td>20200629</td>\n",
       "      <td>8.86</td>\n",
       "      <td>0</td>\n",
       "      <td>0.564</td>\n",
       "      <td>0.6301</td>\n",
       "      <td>0.6814</td>\n",
       "      <td>501</td>\n",
       "    </tr>\n",
       "    <tr>\n",
       "      <th>2020-06-30</th>\n",
       "      <td>8.94</td>\n",
       "      <td>9.11</td>\n",
       "      <td>9.18</td>\n",
       "      <td>8.82</td>\n",
       "      <td>1794900</td>\n",
       "      <td>20200630</td>\n",
       "      <td>8.91</td>\n",
       "      <td>1</td>\n",
       "      <td>2.245</td>\n",
       "      <td>0.6056</td>\n",
       "      <td>0.6386</td>\n",
       "      <td>502</td>\n",
       "    </tr>\n",
       "    <tr>\n",
       "      <th>2020-07-01</th>\n",
       "      <td>9.01</td>\n",
       "      <td>9.01</td>\n",
       "      <td>9.18</td>\n",
       "      <td>8.94</td>\n",
       "      <td>1811458</td>\n",
       "      <td>20200701</td>\n",
       "      <td>9.11</td>\n",
       "      <td>2</td>\n",
       "      <td>-1.098</td>\n",
       "      <td>0.5751</td>\n",
       "      <td>0.5894</td>\n",
       "      <td>503</td>\n",
       "    </tr>\n",
       "  </tbody>\n",
       "</table>\n",
       "</div>"
      ],
      "text/plain": [
       "            open  close  high   low   volume      date  pre_close  date_week  \\\n",
       "2020-06-23  9.81   9.05  9.85  9.02  4390657  20200623       9.94          1   \n",
       "2020-06-24  9.08   8.86  9.16  8.66  2315919  20200624       9.05          2   \n",
       "2020-06-29  8.95   8.91  9.15  8.85  1993947  20200629       8.86          0   \n",
       "2020-06-30  8.94   9.11  9.18  8.82  1794900  20200630       8.91          1   \n",
       "2020-07-01  9.01   9.01  9.18  8.94  1811458  20200701       9.11          2   \n",
       "\n",
       "            p_change   atr21   atr14  key  \n",
       "2020-06-23    -8.954  0.6015  0.6570  499  \n",
       "2020-06-24    -2.099  0.6632  0.7401  500  \n",
       "2020-06-29     0.564  0.6301  0.6814  501  \n",
       "2020-06-30     2.245  0.6056  0.6386  502  \n",
       "2020-07-01    -1.098  0.5751  0.5894  503  "
      ]
     },
     "execution_count": 5,
     "metadata": {},
     "output_type": "execute_result"
    }
   ],
   "source": [
    "df = ABuSymbolPd.make_kl_df('sz002385')\n",
    "df.tail()"
   ]
  },
  {
   "cell_type": "code",
   "execution_count": 6,
   "metadata": {
    "collapsed": false
   },
   "outputs": [],
   "source": [
    "from abupy import AbuBenchmark\n",
    "benchmark = AbuBenchmark(start='2014-07-01', end='2020-07-01')\n"
   ]
  },
  {
   "cell_type": "code",
   "execution_count": 7,
   "metadata": {
    "collapsed": false
   },
   "outputs": [
    {
     "name": "stdout",
     "output_type": "stream",
     "text": [
      "DatetimeIndex(['2014-07-01', '2014-07-02', '2014-07-03', '2014-07-04',\n",
      "               '2014-07-07', '2014-07-08', '2014-07-09', '2014-07-10',\n",
      "               '2014-07-11', '2014-07-14',\n",
      "               ...\n",
      "               '2020-06-16', '2020-06-17', '2020-06-18', '2020-06-19',\n",
      "               '2020-06-22', '2020-06-23', '2020-06-24', '2020-06-29',\n",
      "               '2020-06-30', '2020-07-01'],\n",
      "              dtype='datetime64[ns]', length=1463, freq=None)\n"
     ]
    },
    {
     "data": {
      "text/plain": [
       "pandas.core.indexes.datetimes.DatetimeIndex"
      ]
     },
     "execution_count": 7,
     "metadata": {},
     "output_type": "execute_result"
    }
   ],
   "source": [
    "print(benchmark.kl_pd.index)\n",
    "type(benchmark.kl_pd.index)"
   ]
  },
  {
   "cell_type": "markdown",
   "metadata": {},
   "source": [
    "进行回测："
   ]
  },
  {
   "cell_type": "code",
   "execution_count": 8,
   "metadata": {
    "collapsed": false
   },
   "outputs": [],
   "source": [
    "from abupy import AbuFactorAtrNStop, AbuFactorPreAtrNStop, AbuFactorCloseAtrNStop, AbuFactorBuyBreak\n",
    "from abupy import abu, EMarketTargetType, AbuMetricsBase, ABuMarketDrawing, ABuProgress, ABuSymbolPd\n",
    "from abupy import EMarketTargetType, EDataCacheType, EMarketSourceType, EMarketDataFetchMode, EStoreAbu, AbuUmpMainMul\n",
    "from abupy import AbuUmpMainDeg, AbuUmpMainJump, AbuUmpMainPrice, AbuUmpMainWave, feature, AbuFeatureDegExtend\n",
    "from abupy import AbuUmpEdgeDeg, AbuUmpEdgePrice, AbuUmpEdgeWave, AbuUmpEdgeFull, AbuUmpEdgeMul, AbuUmpEegeDegExtend\n",
    "from abupy import AbuUmpMainDegExtend, ump\n",
    "\n",
    "\n",
    "# 初始化资金10万\n",
    "read_cash = 100000\n",
    "\n",
    "# 买入因子依然延用向上突破因子\n",
    "buy_factors = [{'xd': 60, 'class': AbuFactorBuyBreak},\n",
    "               {'xd': 42, 'class': AbuFactorBuyBreak}]\n",
    "\n",
    "# 卖出因子继续使用上一节使用的因子\n",
    "sell_factors = [\n",
    "    {'stop_loss_n': 1.0, 'stop_win_n': 3.0,\n",
    "     'class': AbuFactorAtrNStop},\n",
    "    {'class': AbuFactorPreAtrNStop, 'pre_atr_n': 1.5},\n",
    "    {'class': AbuFactorCloseAtrNStop, 'close_atr_n': 1.5}\n",
    "]\n",
    "abupy.env.g_market_target = EMarketTargetType.E_MARKET_TARGET_CN\n",
    "abupy.env.g_data_fetch_mode = EMarketDataFetchMode.E_DATA_FETCH_FORCE_LOCAL"
   ]
  },
  {
   "cell_type": "code",
   "execution_count": 9,
   "metadata": {
    "collapsed": false
   },
   "outputs": [
    {
     "data": {
      "application/vnd.jupyter.widget-view+json": {
       "model_id": "4bbdcce509c8427aac1e4b04b5873846",
       "version_major": 2,
       "version_minor": 0
      },
      "text/plain": [
       "Box(children=(Text(value='pid=10648 begin work'), FloatProgress(value=0.0)))"
      ]
     },
     "metadata": {},
     "output_type": "display_data"
    },
    {
     "data": {
      "application/vnd.jupyter.widget-view+json": {
       "model_id": "5abece175dfb4488b1fb493f4cfd2038",
       "version_major": 2,
       "version_minor": 0
      },
      "text/plain": [
       "Box(children=(Text(value='pid=10645 begin work'), FloatProgress(value=0.0)))"
      ]
     },
     "metadata": {},
     "output_type": "display_data"
    },
    {
     "data": {
      "application/vnd.jupyter.widget-view+json": {
       "model_id": "66a76b668ca6485f9fa0896d5653803b",
       "version_major": 2,
       "version_minor": 0
      },
      "text/plain": [
       "Box(children=(Text(value='pid=10649 begin work'), FloatProgress(value=0.0)))"
      ]
     },
     "metadata": {},
     "output_type": "display_data"
    },
    {
     "data": {
      "application/vnd.jupyter.widget-view+json": {
       "model_id": "492fbb5dc7584f09b50c43839f59f839",
       "version_major": 2,
       "version_minor": 0
      },
      "text/plain": [
       "Box(children=(Text(value='pid=10646 begin work'), FloatProgress(value=0.0)))"
      ]
     },
     "metadata": {},
     "output_type": "display_data"
    },
    {
     "data": {
      "application/vnd.jupyter.widget-view+json": {
       "model_id": "4fc37a18a63b4cbbb7179b08fe48796d",
       "version_major": 2,
       "version_minor": 0
      },
      "text/plain": [
       "Box(children=(Text(value='pid=10650 begin work'), FloatProgress(value=0.0)))"
      ]
     },
     "metadata": {},
     "output_type": "display_data"
    },
    {
     "data": {
      "application/vnd.jupyter.widget-view+json": {
       "model_id": "bd6024d0f32745198b3fab3665ef2a63",
       "version_major": 2,
       "version_minor": 0
      },
      "text/plain": [
       "Box(children=(Text(value='pid=10647 begin work'), FloatProgress(value=0.0)))"
      ]
     },
     "metadata": {},
     "output_type": "display_data"
    },
    {
     "name": "stdout",
     "output_type": "stream",
     "text": [
      "\r",
      "\r",
      "capital.apply_action::0.83%"
     ]
    },
    {
     "data": {
      "application/vnd.jupyter.widget-view+json": {
       "model_id": "e2881405b1054fa4b3ad16ee1173f386",
       "version_major": 2,
       "version_minor": 0
      },
      "text/plain": [
       "FloatProgress(value=0.0)"
      ]
     },
     "metadata": {},
     "output_type": "display_data"
    },
    {
     "name": "stdout",
     "output_type": "stream",
     "text": [
      "capital.apply_action::100.0%\r"
     ]
    }
   ],
   "source": [
    "#choice_symbols = None\n",
    "choice_symbols = [\"sz002385\",\"sz002223\",\"sz300058\",\"sz000997\",\"sz300159\",\"sh600316\",]\n",
    "abu_result_tuple, _ = abu.run_loop_back(read_cash,\n",
    "                                            buy_factors,\n",
    "                                            sell_factors,\n",
    "                                            choice_symbols=choice_symbols,\n",
    "                                            start='2017-07-01', end='2020-07-01')"
   ]
  },
  {
   "cell_type": "code",
   "execution_count": 10,
   "metadata": {
    "collapsed": false
   },
   "outputs": [
    {
     "name": "stderr",
     "output_type": "stream",
     "text": [
      "/Users/zhushuqiong/anaconda/envs/abu/lib/python3.7/site-packages/jupyter_client/jsonutil.py:66: DeprecationWarning: Interpreting naive datetime as local 2020-07-05 17:18:09.549720. Please add timezone info to timestamps.\n",
      "  new_obj[k] = extract_dates(v)\n",
      "买入后卖出的交易数量:59\n",
      "买入后尚未卖出的交易数量:3\n",
      "胜率:45.7627%\n",
      "平均获利期望:12.3654%\n",
      "平均亏损期望:-8.6042%\n",
      "盈亏比:1.3943\n",
      "策略收益: 7.1668%\n",
      "基准收益: -5.2364%\n",
      "策略年化收益: 2.4740%\n",
      "基准年化收益: -1.8076%\n",
      "策略买入成交比例:83.8710%\n",
      "策略资金利用率比例:17.9335%\n",
      "策略共执行730个交易日\n"
     ]
    },
    {
     "data": {
      "image/png": "[encoded data removed]",
      "text/plain": [
       "<Figure size 1008x504 with 1 Axes>"
      ]
     },
     "metadata": {},
     "output_type": "display_data"
    },
    {
     "data": {
      "text/plain": [
       "<abupy.MetricsBu.ABuMetricsBase.AbuMetricsBase at 0x116fd7d50>"
      ]
     },
     "execution_count": 10,
     "metadata": {},
     "output_type": "execute_result"
    }
   ],
   "source": [
    "AbuMetricsBase.show_general(*abu_result_tuple, only_show_returns=True)"
   ]
  },
  {
   "cell_type": "code",
   "execution_count": 11,
   "metadata": {
    "collapsed": false
   },
   "outputs": [
    {
     "name": "stderr",
     "output_type": "stream",
     "text": [
      "/Users/zhushuqiong/anaconda/envs/abu/lib/python3.7/site-packages/jupyter_client/jsonutil.py:66: DeprecationWarning: Interpreting naive datetime as local 2020-07-05 17:18:09.555856. Please add timezone info to timestamps.\n",
      "  new_obj[k] = extract_dates(v)\n"
     ]
    },
    {
     "data": {
      "text/html": [
       "<div>\n",
       "<style scoped>\n",
       "    .dataframe tbody tr th:only-of-type {\n",
       "        vertical-align: middle;\n",
       "    }\n",
       "\n",
       "    .dataframe tbody tr th {\n",
       "        vertical-align: top;\n",
       "    }\n",
       "\n",
       "    .dataframe thead th {\n",
       "        text-align: right;\n",
       "    }\n",
       "</style>\n",
       "<table border=\"1\" class=\"dataframe\">\n",
       "  <thead>\n",
       "    <tr style=\"text-align: right;\">\n",
       "      <th></th>\n",
       "      <th>buy_date</th>\n",
       "      <th>buy_price</th>\n",
       "      <th>buy_cnt</th>\n",
       "      <th>buy_factor</th>\n",
       "      <th>symbol</th>\n",
       "      <th>buy_pos</th>\n",
       "      <th>buy_type_str</th>\n",
       "      <th>expect_direction</th>\n",
       "      <th>sell_type_extra</th>\n",
       "      <th>sell_date</th>\n",
       "      <th>sell_price</th>\n",
       "      <th>sell_type</th>\n",
       "      <th>ml_features</th>\n",
       "      <th>key</th>\n",
       "      <th>profit</th>\n",
       "      <th>result</th>\n",
       "      <th>profit_cg</th>\n",
       "      <th>profit_cg_hunder</th>\n",
       "      <th>keep_days</th>\n",
       "    </tr>\n",
       "  </thead>\n",
       "  <tbody>\n",
       "    <tr>\n",
       "      <th>2018-01-24</th>\n",
       "      <td>20180124</td>\n",
       "      <td>6.6895</td>\n",
       "      <td>2800.0</td>\n",
       "      <td>AbuFactorBuyBreak:42</td>\n",
       "      <td>sz002385</td>\n",
       "      <td>AbuAtrPosition</td>\n",
       "      <td>call</td>\n",
       "      <td>1.0</td>\n",
       "      <td>AbuFactorPreAtrNStop:pre_atr=1.5</td>\n",
       "      <td>20180202</td>\n",
       "      <td>6.2760</td>\n",
       "      <td>loss</td>\n",
       "      <td>None</td>\n",
       "      <td>141</td>\n",
       "      <td>-1157.8</td>\n",
       "      <td>-1</td>\n",
       "      <td>-0.0618</td>\n",
       "      <td>-6.1813</td>\n",
       "      <td>9</td>\n",
       "    </tr>\n",
       "    <tr>\n",
       "      <th>2018-01-25</th>\n",
       "      <td>20180125</td>\n",
       "      <td>21.5165</td>\n",
       "      <td>900.0</td>\n",
       "      <td>AbuFactorBuyBreak:42</td>\n",
       "      <td>sz002223</td>\n",
       "      <td>AbuAtrPosition</td>\n",
       "      <td>call</td>\n",
       "      <td>1.0</td>\n",
       "      <td>AbuFactorCloseAtrNStop:close_atr_n=1.5</td>\n",
       "      <td>20180316</td>\n",
       "      <td>21.6105</td>\n",
       "      <td>win</td>\n",
       "      <td>None</td>\n",
       "      <td>142</td>\n",
       "      <td>84.6</td>\n",
       "      <td>1</td>\n",
       "      <td>0.0044</td>\n",
       "      <td>0.4369</td>\n",
       "      <td>50</td>\n",
       "    </tr>\n",
       "    <tr>\n",
       "      <th>2018-01-26</th>\n",
       "      <td>20180126</td>\n",
       "      <td>6.8225</td>\n",
       "      <td>2800.0</td>\n",
       "      <td>AbuFactorBuyBreak:60</td>\n",
       "      <td>sz002385</td>\n",
       "      <td>AbuAtrPosition</td>\n",
       "      <td>call</td>\n",
       "      <td>1.0</td>\n",
       "      <td>AbuFactorAtrNStop:stop_loss=1.0</td>\n",
       "      <td>20180202</td>\n",
       "      <td>6.2760</td>\n",
       "      <td>loss</td>\n",
       "      <td>None</td>\n",
       "      <td>143</td>\n",
       "      <td>-1530.2</td>\n",
       "      <td>-1</td>\n",
       "      <td>-0.0801</td>\n",
       "      <td>-8.0103</td>\n",
       "      <td>7</td>\n",
       "    </tr>\n",
       "    <tr>\n",
       "      <th>2018-01-29</th>\n",
       "      <td>20180129</td>\n",
       "      <td>7.6500</td>\n",
       "      <td>1400.0</td>\n",
       "      <td>AbuFactorBuyBreak:60</td>\n",
       "      <td>sz300058</td>\n",
       "      <td>AbuAtrPosition</td>\n",
       "      <td>call</td>\n",
       "      <td>1.0</td>\n",
       "      <td>AbuFactorCloseAtrNStop:close_atr_n=1.5</td>\n",
       "      <td>20180320</td>\n",
       "      <td>7.4260</td>\n",
       "      <td>loss</td>\n",
       "      <td>None</td>\n",
       "      <td>144</td>\n",
       "      <td>-313.6</td>\n",
       "      <td>-1</td>\n",
       "      <td>-0.0293</td>\n",
       "      <td>-2.9281</td>\n",
       "      <td>50</td>\n",
       "    </tr>\n",
       "    <tr>\n",
       "      <th>2018-01-29</th>\n",
       "      <td>20180129</td>\n",
       "      <td>7.6500</td>\n",
       "      <td>1400.0</td>\n",
       "      <td>AbuFactorBuyBreak:42</td>\n",
       "      <td>sz300058</td>\n",
       "      <td>AbuAtrPosition</td>\n",
       "      <td>call</td>\n",
       "      <td>1.0</td>\n",
       "      <td>AbuFactorCloseAtrNStop:close_atr_n=1.5</td>\n",
       "      <td>20180320</td>\n",
       "      <td>7.4260</td>\n",
       "      <td>loss</td>\n",
       "      <td>None</td>\n",
       "      <td>144</td>\n",
       "      <td>-313.6</td>\n",
       "      <td>-1</td>\n",
       "      <td>-0.0293</td>\n",
       "      <td>-2.9281</td>\n",
       "      <td>50</td>\n",
       "    </tr>\n",
       "    <tr>\n",
       "      <th>...</th>\n",
       "      <td>...</td>\n",
       "      <td>...</td>\n",
       "      <td>...</td>\n",
       "      <td>...</td>\n",
       "      <td>...</td>\n",
       "      <td>...</td>\n",
       "      <td>...</td>\n",
       "      <td>...</td>\n",
       "      <td>...</td>\n",
       "      <td>...</td>\n",
       "      <td>...</td>\n",
       "      <td>...</td>\n",
       "      <td>...</td>\n",
       "      <td>...</td>\n",
       "      <td>...</td>\n",
       "      <td>...</td>\n",
       "      <td>...</td>\n",
       "      <td>...</td>\n",
       "      <td>...</td>\n",
       "    </tr>\n",
       "    <tr>\n",
       "      <th>2020-05-12</th>\n",
       "      <td>20200512</td>\n",
       "      <td>7.0000</td>\n",
       "      <td>1400.0</td>\n",
       "      <td>AbuFactorBuyBreak:42</td>\n",
       "      <td>sz300058</td>\n",
       "      <td>AbuAtrPosition</td>\n",
       "      <td>call</td>\n",
       "      <td>1.0</td>\n",
       "      <td>AbuFactorCloseAtrNStop:close_atr_n=1.5</td>\n",
       "      <td>20200624</td>\n",
       "      <td>7.8950</td>\n",
       "      <td>win</td>\n",
       "      <td>None</td>\n",
       "      <td>695</td>\n",
       "      <td>1253.0</td>\n",
       "      <td>1</td>\n",
       "      <td>0.1279</td>\n",
       "      <td>12.7857</td>\n",
       "      <td>43</td>\n",
       "    </tr>\n",
       "    <tr>\n",
       "      <th>2020-05-19</th>\n",
       "      <td>20200519</td>\n",
       "      <td>14.0900</td>\n",
       "      <td>1200.0</td>\n",
       "      <td>AbuFactorBuyBreak:42</td>\n",
       "      <td>sh600316</td>\n",
       "      <td>AbuAtrPosition</td>\n",
       "      <td>call</td>\n",
       "      <td>1.0</td>\n",
       "      <td></td>\n",
       "      <td>0</td>\n",
       "      <td>NaN</td>\n",
       "      <td>keep</td>\n",
       "      <td>None</td>\n",
       "      <td>700</td>\n",
       "      <td>NaN</td>\n",
       "      <td>0</td>\n",
       "      <td>NaN</td>\n",
       "      <td>NaN</td>\n",
       "      <td>47</td>\n",
       "    </tr>\n",
       "    <tr>\n",
       "      <th>2020-06-05</th>\n",
       "      <td>20200605</td>\n",
       "      <td>7.5500</td>\n",
       "      <td>1300.0</td>\n",
       "      <td>AbuFactorBuyBreak:60</td>\n",
       "      <td>sz300058</td>\n",
       "      <td>AbuAtrPosition</td>\n",
       "      <td>call</td>\n",
       "      <td>1.0</td>\n",
       "      <td>AbuFactorCloseAtrNStop:close_atr_n=1.5</td>\n",
       "      <td>20200624</td>\n",
       "      <td>7.8950</td>\n",
       "      <td>win</td>\n",
       "      <td>None</td>\n",
       "      <td>713</td>\n",
       "      <td>448.5</td>\n",
       "      <td>1</td>\n",
       "      <td>0.0457</td>\n",
       "      <td>4.5695</td>\n",
       "      <td>19</td>\n",
       "    </tr>\n",
       "    <tr>\n",
       "      <th>2020-06-16</th>\n",
       "      <td>20200616</td>\n",
       "      <td>14.4400</td>\n",
       "      <td>1300.0</td>\n",
       "      <td>AbuFactorBuyBreak:60</td>\n",
       "      <td>sh600316</td>\n",
       "      <td>AbuAtrPosition</td>\n",
       "      <td>call</td>\n",
       "      <td>1.0</td>\n",
       "      <td></td>\n",
       "      <td>0</td>\n",
       "      <td>NaN</td>\n",
       "      <td>keep</td>\n",
       "      <td>None</td>\n",
       "      <td>720</td>\n",
       "      <td>NaN</td>\n",
       "      <td>0</td>\n",
       "      <td>NaN</td>\n",
       "      <td>NaN</td>\n",
       "      <td>19</td>\n",
       "    </tr>\n",
       "    <tr>\n",
       "      <th>2020-06-30</th>\n",
       "      <td>20200630</td>\n",
       "      <td>35.9400</td>\n",
       "      <td>300.0</td>\n",
       "      <td>AbuFactorBuyBreak:42</td>\n",
       "      <td>sz002223</td>\n",
       "      <td>AbuAtrPosition</td>\n",
       "      <td>call</td>\n",
       "      <td>1.0</td>\n",
       "      <td></td>\n",
       "      <td>0</td>\n",
       "      <td>NaN</td>\n",
       "      <td>keep</td>\n",
       "      <td>None</td>\n",
       "      <td>728</td>\n",
       "      <td>NaN</td>\n",
       "      <td>0</td>\n",
       "      <td>NaN</td>\n",
       "      <td>NaN</td>\n",
       "      <td>5</td>\n",
       "    </tr>\n",
       "  </tbody>\n",
       "</table>\n",
       "<p>62 rows × 19 columns</p>\n",
       "</div>"
      ],
      "text/plain": [
       "            buy_date  buy_price  buy_cnt            buy_factor    symbol  \\\n",
       "2018-01-24  20180124     6.6895   2800.0  AbuFactorBuyBreak:42  sz002385   \n",
       "2018-01-25  20180125    21.5165    900.0  AbuFactorBuyBreak:42  sz002223   \n",
       "2018-01-26  20180126     6.8225   2800.0  AbuFactorBuyBreak:60  sz002385   \n",
       "2018-01-29  20180129     7.6500   1400.0  AbuFactorBuyBreak:60  sz300058   \n",
       "2018-01-29  20180129     7.6500   1400.0  AbuFactorBuyBreak:42  sz300058   \n",
       "...              ...        ...      ...                   ...       ...   \n",
       "2020-05-12  20200512     7.0000   1400.0  AbuFactorBuyBreak:42  sz300058   \n",
       "2020-05-19  20200519    14.0900   1200.0  AbuFactorBuyBreak:42  sh600316   \n",
       "2020-06-05  20200605     7.5500   1300.0  AbuFactorBuyBreak:60  sz300058   \n",
       "2020-06-16  20200616    14.4400   1300.0  AbuFactorBuyBreak:60  sh600316   \n",
       "2020-06-30  20200630    35.9400    300.0  AbuFactorBuyBreak:42  sz002223   \n",
       "\n",
       "                   buy_pos buy_type_str  expect_direction  \\\n",
       "2018-01-24  AbuAtrPosition         call               1.0   \n",
       "2018-01-25  AbuAtrPosition         call               1.0   \n",
       "2018-01-26  AbuAtrPosition         call               1.0   \n",
       "2018-01-29  AbuAtrPosition         call               1.0   \n",
       "2018-01-29  AbuAtrPosition         call               1.0   \n",
       "...                    ...          ...               ...   \n",
       "2020-05-12  AbuAtrPosition         call               1.0   \n",
       "2020-05-19  AbuAtrPosition         call               1.0   \n",
       "2020-06-05  AbuAtrPosition         call               1.0   \n",
       "2020-06-16  AbuAtrPosition         call               1.0   \n",
       "2020-06-30  AbuAtrPosition         call               1.0   \n",
       "\n",
       "                                   sell_type_extra  sell_date  sell_price  \\\n",
       "2018-01-24        AbuFactorPreAtrNStop:pre_atr=1.5   20180202      6.2760   \n",
       "2018-01-25  AbuFactorCloseAtrNStop:close_atr_n=1.5   20180316     21.6105   \n",
       "2018-01-26         AbuFactorAtrNStop:stop_loss=1.0   20180202      6.2760   \n",
       "2018-01-29  AbuFactorCloseAtrNStop:close_atr_n=1.5   20180320      7.4260   \n",
       "2018-01-29  AbuFactorCloseAtrNStop:close_atr_n=1.5   20180320      7.4260   \n",
       "...                                            ...        ...         ...   \n",
       "2020-05-12  AbuFactorCloseAtrNStop:close_atr_n=1.5   20200624      7.8950   \n",
       "2020-05-19                                                  0         NaN   \n",
       "2020-06-05  AbuFactorCloseAtrNStop:close_atr_n=1.5   20200624      7.8950   \n",
       "2020-06-16                                                  0         NaN   \n",
       "2020-06-30                                                  0         NaN   \n",
       "\n",
       "           sell_type ml_features  key  profit  result  profit_cg  \\\n",
       "2018-01-24      loss        None  141 -1157.8      -1    -0.0618   \n",
       "2018-01-25       win        None  142    84.6       1     0.0044   \n",
       "2018-01-26      loss        None  143 -1530.2      -1    -0.0801   \n",
       "2018-01-29      loss        None  144  -313.6      -1    -0.0293   \n",
       "2018-01-29      loss        None  144  -313.6      -1    -0.0293   \n",
       "...              ...         ...  ...     ...     ...        ...   \n",
       "2020-05-12       win        None  695  1253.0       1     0.1279   \n",
       "2020-05-19      keep        None  700     NaN       0        NaN   \n",
       "2020-06-05       win        None  713   448.5       1     0.0457   \n",
       "2020-06-16      keep        None  720     NaN       0        NaN   \n",
       "2020-06-30      keep        None  728     NaN       0        NaN   \n",
       "\n",
       "            profit_cg_hunder  keep_days  \n",
       "2018-01-24           -6.1813          9  \n",
       "2018-01-25            0.4369         50  \n",
       "2018-01-26           -8.0103          7  \n",
       "2018-01-29           -2.9281         50  \n",
       "2018-01-29           -2.9281         50  \n",
       "...                      ...        ...  \n",
       "2020-05-12           12.7857         43  \n",
       "2020-05-19               NaN         47  \n",
       "2020-06-05            4.5695         19  \n",
       "2020-06-16               NaN         19  \n",
       "2020-06-30               NaN          5  \n",
       "\n",
       "[62 rows x 19 columns]"
      ]
     },
     "execution_count": 11,
     "metadata": {},
     "output_type": "execute_result"
    }
   ],
   "source": [
    "orders_pd = abu_result_tuple.orders_pd\n",
    "orders_pd"
   ]
  },
  {
   "cell_type": "code",
   "execution_count": 12,
   "metadata": {
    "collapsed": false
   },
   "outputs": [
    {
     "name": "stderr",
     "output_type": "stream",
     "text": [
      "/Users/zhushuqiong/anaconda/envs/abu/lib/python3.7/site-packages/jupyter_client/jsonutil.py:66: DeprecationWarning: Interpreting naive datetime as local 2020-07-05 17:18:09.565230. Please add timezone info to timestamps.\n",
      "  new_obj[k] = extract_dates(v)\n"
     ]
    },
    {
     "data": {
      "text/html": [
       "<div>\n",
       "<style scoped>\n",
       "    .dataframe tbody tr th:only-of-type {\n",
       "        vertical-align: middle;\n",
       "    }\n",
       "\n",
       "    .dataframe tbody tr th {\n",
       "        vertical-align: top;\n",
       "    }\n",
       "\n",
       "    .dataframe thead th {\n",
       "        text-align: right;\n",
       "    }\n",
       "</style>\n",
       "<table border=\"1\" class=\"dataframe\">\n",
       "  <thead>\n",
       "    <tr style=\"text-align: right;\">\n",
       "      <th></th>\n",
       "      <th>buy_date</th>\n",
       "      <th>buy_price</th>\n",
       "      <th>buy_cnt</th>\n",
       "      <th>buy_factor</th>\n",
       "      <th>symbol</th>\n",
       "      <th>buy_pos</th>\n",
       "      <th>buy_type_str</th>\n",
       "      <th>expect_direction</th>\n",
       "      <th>sell_type_extra</th>\n",
       "      <th>sell_date</th>\n",
       "      <th>sell_price</th>\n",
       "      <th>sell_type</th>\n",
       "      <th>ml_features</th>\n",
       "      <th>key</th>\n",
       "      <th>profit</th>\n",
       "      <th>result</th>\n",
       "      <th>profit_cg</th>\n",
       "      <th>profit_cg_hunder</th>\n",
       "      <th>keep_days</th>\n",
       "    </tr>\n",
       "  </thead>\n",
       "  <tbody>\n",
       "    <tr>\n",
       "      <th>2020-05-12</th>\n",
       "      <td>20200512</td>\n",
       "      <td>7.0</td>\n",
       "      <td>1400.0</td>\n",
       "      <td>AbuFactorBuyBreak:42</td>\n",
       "      <td>sz300058</td>\n",
       "      <td>AbuAtrPosition</td>\n",
       "      <td>call</td>\n",
       "      <td>1.0</td>\n",
       "      <td>AbuFactorCloseAtrNStop:close_atr_n=1.5</td>\n",
       "      <td>20200624</td>\n",
       "      <td>7.895</td>\n",
       "      <td>win</td>\n",
       "      <td>None</td>\n",
       "      <td>695</td>\n",
       "      <td>1253.0</td>\n",
       "      <td>1</td>\n",
       "      <td>0.1279</td>\n",
       "      <td>12.7857</td>\n",
       "      <td>43</td>\n",
       "    </tr>\n",
       "  </tbody>\n",
       "</table>\n",
       "</div>"
      ],
      "text/plain": [
       "            buy_date  buy_price  buy_cnt            buy_factor    symbol  \\\n",
       "2020-05-12  20200512        7.0   1400.0  AbuFactorBuyBreak:42  sz300058   \n",
       "\n",
       "                   buy_pos buy_type_str  expect_direction  \\\n",
       "2020-05-12  AbuAtrPosition         call               1.0   \n",
       "\n",
       "                                   sell_type_extra  sell_date  sell_price  \\\n",
       "2020-05-12  AbuFactorCloseAtrNStop:close_atr_n=1.5   20200624       7.895   \n",
       "\n",
       "           sell_type ml_features  key  profit  result  profit_cg  \\\n",
       "2020-05-12       win        None  695  1253.0       1     0.1279   \n",
       "\n",
       "            profit_cg_hunder  keep_days  \n",
       "2020-05-12           12.7857         43  "
      ]
     },
     "execution_count": 12,
     "metadata": {},
     "output_type": "execute_result"
    }
   ],
   "source": [
    "view_orders = orders_pd[(orders_pd['symbol'] == 'sz300058') & (orders_pd['buy_date'] == 20200512)]\n",
    "view_orders"
   ]
  },
  {
   "cell_type": "code",
   "execution_count": 13,
   "metadata": {
    "collapsed": false
   },
   "outputs": [
    {
     "name": "stderr",
     "output_type": "stream",
     "text": [
      "/Users/zhushuqiong/anaconda/envs/abu/lib/python3.7/site-packages/jupyter_client/jsonutil.py:66: DeprecationWarning: Interpreting naive datetime as local 2020-07-05 17:18:09.572189. Please add timezone info to timestamps.\n",
      "  new_obj[k] = extract_dates(v)\n"
     ]
    },
    {
     "data": {
      "image/png": "[encoded data removed]",
      "text/plain": [
       "<Figure size 1440x864 with 2 Axes>"
      ]
     },
     "metadata": {},
     "output_type": "display_data"
    }
   ],
   "source": [
    "trade_df = ABuMarketDrawing.plot_candle_from_order(view_orders)"
   ]
  },
  {
   "cell_type": "code",
   "execution_count": null,
   "metadata": {
    "collapsed": true
   },
   "outputs": [],
   "source": []
  }
 ],
 "metadata": {
  "kernelspec": {
   "display_name": "abu_env",
   "language": "python",
   "name": "abu_env"
  },
  "language_info": {
   "codemirror_mode": {
    "name": "ipython",
    "version": 3
   },
   "file_extension": ".py",
   "mimetype": "text/x-python",
   "name": "python",
   "nbconvert_exporter": "python",
   "pygments_lexer": "ipython3",
   "version": "3.7.6"
  }
 },
 "nbformat": 4,
 "nbformat_minor": 2
}
